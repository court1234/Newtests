{
 "cells": [
  {
   "cell_type": "code",
   "execution_count": 2,
   "metadata": {
    "collapsed": true
   },
   "outputs": [],
   "source": [
    "import pandas as pd\n",
    "import glob\n",
    "import nltk\n",
    "import matplotlib as plt"
   ]
  },
  {
   "cell_type": "code",
   "execution_count": 4,
   "metadata": {
    "collapsed": true
   },
   "outputs": [],
   "source": [
    "new_test = pd.read_csv('new_test.csv')"
   ]
  },
  {
   "cell_type": "code",
   "execution_count": 5,
   "metadata": {},
   "outputs": [
    {
     "data": {
      "text/html": [
       "<div>\n",
       "<style>\n",
       "    .dataframe thead tr:only-child th {\n",
       "        text-align: right;\n",
       "    }\n",
       "\n",
       "    .dataframe thead th {\n",
       "        text-align: left;\n",
       "    }\n",
       "\n",
       "    .dataframe tbody tr th {\n",
       "        vertical-align: top;\n",
       "    }\n",
       "</style>\n",
       "<table border=\"1\" class=\"dataframe\">\n",
       "  <thead>\n",
       "    <tr style=\"text-align: right;\">\n",
       "      <th></th>\n",
       "      <th>date</th>\n",
       "      <th>version</th>\n",
       "      <th>rating</th>\n",
       "      <th>body</th>\n",
       "    </tr>\n",
       "  </thead>\n",
       "  <tbody>\n",
       "    <tr>\n",
       "      <th>0</th>\n",
       "      <td>aug 05 2017</td>\n",
       "      <td>2.623</td>\n",
       "      <td>5</td>\n",
       "      <td>i use this app every day its pretty simply la...</td>\n",
       "    </tr>\n",
       "    <tr>\n",
       "      <th>1</th>\n",
       "      <td>aug 15 2017</td>\n",
       "      <td>2.623</td>\n",
       "      <td>1</td>\n",
       "      <td>your password expires but it doesnt tell you ...</td>\n",
       "    </tr>\n",
       "    <tr>\n",
       "      <th>2</th>\n",
       "      <td>aug 16 2017</td>\n",
       "      <td>2.623</td>\n",
       "      <td>1</td>\n",
       "      <td>when you check your balance the addition is a...</td>\n",
       "    </tr>\n",
       "    <tr>\n",
       "      <th>3</th>\n",
       "      <td>aug 28 2017</td>\n",
       "      <td>2.623</td>\n",
       "      <td>3</td>\n",
       "      <td>this app is great when it actually works righ...</td>\n",
       "    </tr>\n",
       "    <tr>\n",
       "      <th>4</th>\n",
       "      <td>aug 11 2017</td>\n",
       "      <td>2.623</td>\n",
       "      <td>5</td>\n",
       "      <td>ive been a member for + years when chase made...</td>\n",
       "    </tr>\n",
       "    <tr>\n",
       "      <th>5</th>\n",
       "      <td>sep 29 2017</td>\n",
       "      <td>2.634</td>\n",
       "      <td>5</td>\n",
       "      <td>its been more than six months since i wrote m...</td>\n",
       "    </tr>\n",
       "    <tr>\n",
       "      <th>6</th>\n",
       "      <td>aug 01 2017</td>\n",
       "      <td>2.623</td>\n",
       "      <td>5</td>\n",
       "      <td>i love this app i use this app daily to monit...</td>\n",
       "    </tr>\n",
       "    <tr>\n",
       "      <th>7</th>\n",
       "      <td>aug 02 2017</td>\n",
       "      <td>2.623</td>\n",
       "      <td>5</td>\n",
       "      <td>i moved  years ago and the nearest chase bank...</td>\n",
       "    </tr>\n",
       "    <tr>\n",
       "      <th>8</th>\n",
       "      <td>oct 05 2017</td>\n",
       "      <td>2.634</td>\n",
       "      <td>2</td>\n",
       "      <td>i have been using this app for years and neve...</td>\n",
       "    </tr>\n",
       "    <tr>\n",
       "      <th>9</th>\n",
       "      <td>sep 02 2017</td>\n",
       "      <td>2.623</td>\n",
       "      <td>4</td>\n",
       "      <td>the current version of the app allows you to ...</td>\n",
       "    </tr>\n",
       "    <tr>\n",
       "      <th>10</th>\n",
       "      <td>aug 17 2017</td>\n",
       "      <td>2.623</td>\n",
       "      <td>1</td>\n",
       "      <td>update the app now works again  but mobile de...</td>\n",
       "    </tr>\n",
       "    <tr>\n",
       "      <th>11</th>\n",
       "      <td>oct 02 2017</td>\n",
       "      <td>2.634</td>\n",
       "      <td>5</td>\n",
       "      <td>the banking app for chase is very easy to nav...</td>\n",
       "    </tr>\n",
       "    <tr>\n",
       "      <th>12</th>\n",
       "      <td>nov 10 2017</td>\n",
       "      <td>2.635</td>\n",
       "      <td>1</td>\n",
       "      <td>the prompts to enter data arent fluid and int...</td>\n",
       "    </tr>\n",
       "    <tr>\n",
       "      <th>13</th>\n",
       "      <td>aug 02 2017</td>\n",
       "      <td>2.623</td>\n",
       "      <td>5</td>\n",
       "      <td>this app is great its very easy to manage  pr...</td>\n",
       "    </tr>\n",
       "    <tr>\n",
       "      <th>14</th>\n",
       "      <td>oct 01 2017</td>\n",
       "      <td>2.634</td>\n",
       "      <td>5</td>\n",
       "      <td>bank from anywhere  put your financial life i...</td>\n",
       "    </tr>\n",
       "    <tr>\n",
       "      <th>15</th>\n",
       "      <td>sep 30 2017</td>\n",
       "      <td>2.634</td>\n",
       "      <td>5</td>\n",
       "      <td>i have the update that came out a few months ...</td>\n",
       "    </tr>\n",
       "    <tr>\n",
       "      <th>16</th>\n",
       "      <td>aug 17 2017</td>\n",
       "      <td>2.623</td>\n",
       "      <td>1</td>\n",
       "      <td>where to beginill probably be cut off there a...</td>\n",
       "    </tr>\n",
       "    <tr>\n",
       "      <th>17</th>\n",
       "      <td>aug 19 2017</td>\n",
       "      <td>2.623</td>\n",
       "      <td>4</td>\n",
       "      <td>transferring between accounts  if you have mu...</td>\n",
       "    </tr>\n",
       "    <tr>\n",
       "      <th>18</th>\n",
       "      <td>aug 16 2017</td>\n",
       "      <td>2.623</td>\n",
       "      <td>5</td>\n",
       "      <td>update loving the fingerprint sign on feature...</td>\n",
       "    </tr>\n",
       "    <tr>\n",
       "      <th>19</th>\n",
       "      <td>oct 06 2017</td>\n",
       "      <td>2.634</td>\n",
       "      <td>2</td>\n",
       "      <td>i really do like that i can deposit checks us...</td>\n",
       "    </tr>\n",
       "  </tbody>\n",
       "</table>\n",
       "</div>"
      ],
      "text/plain": [
       "           date  version  rating  \\\n",
       "0   aug 05 2017    2.623       5   \n",
       "1   aug 15 2017    2.623       1   \n",
       "2   aug 16 2017    2.623       1   \n",
       "3   aug 28 2017    2.623       3   \n",
       "4   aug 11 2017    2.623       5   \n",
       "5   sep 29 2017    2.634       5   \n",
       "6   aug 01 2017    2.623       5   \n",
       "7   aug 02 2017    2.623       5   \n",
       "8   oct 05 2017    2.634       2   \n",
       "9   sep 02 2017    2.623       4   \n",
       "10  aug 17 2017    2.623       1   \n",
       "11  oct 02 2017    2.634       5   \n",
       "12  nov 10 2017    2.635       1   \n",
       "13  aug 02 2017    2.623       5   \n",
       "14  oct 01 2017    2.634       5   \n",
       "15  sep 30 2017    2.634       5   \n",
       "16  aug 17 2017    2.623       1   \n",
       "17  aug 19 2017    2.623       4   \n",
       "18  aug 16 2017    2.623       5   \n",
       "19  oct 06 2017    2.634       2   \n",
       "\n",
       "                                                 body  \n",
       "0    i use this app every day its pretty simply la...  \n",
       "1    your password expires but it doesnt tell you ...  \n",
       "2    when you check your balance the addition is a...  \n",
       "3    this app is great when it actually works righ...  \n",
       "4    ive been a member for + years when chase made...  \n",
       "5    its been more than six months since i wrote m...  \n",
       "6    i love this app i use this app daily to monit...  \n",
       "7    i moved  years ago and the nearest chase bank...  \n",
       "8    i have been using this app for years and neve...  \n",
       "9    the current version of the app allows you to ...  \n",
       "10   update the app now works again  but mobile de...  \n",
       "11   the banking app for chase is very easy to nav...  \n",
       "12   the prompts to enter data arent fluid and int...  \n",
       "13   this app is great its very easy to manage  pr...  \n",
       "14   bank from anywhere  put your financial life i...  \n",
       "15   i have the update that came out a few months ...  \n",
       "16   where to beginill probably be cut off there a...  \n",
       "17   transferring between accounts  if you have mu...  \n",
       "18   update loving the fingerprint sign on feature...  \n",
       "19   i really do like that i can deposit checks us...  "
      ]
     },
     "execution_count": 5,
     "metadata": {},
     "output_type": "execute_result"
    }
   ],
   "source": [
    "new_test"
   ]
  },
  {
   "cell_type": "code",
   "execution_count": 5,
   "metadata": {},
   "outputs": [
    {
     "data": {
      "text/plain": [
       "date        object\n",
       "version    float64\n",
       "rating       int64\n",
       "body        object\n",
       "dtype: object"
      ]
     },
     "execution_count": 5,
     "metadata": {},
     "output_type": "execute_result"
    }
   ],
   "source": [
    "new_test.dtypes"
   ]
  },
  {
   "cell_type": "code",
   "execution_count": 7,
   "metadata": {},
   "outputs": [
    {
     "data": {
      "text/plain": [
       "array([ 2.623,  2.634,  2.635])"
      ]
     },
     "execution_count": 7,
     "metadata": {},
     "output_type": "execute_result"
    }
   ],
   "source": [
    "pd.unique(new_test['version'])"
   ]
  },
  {
   "cell_type": "code",
   "execution_count": 9,
   "metadata": {
    "collapsed": true
   },
   "outputs": [],
   "source": [
    "listest = [1,2,3]"
   ]
  },
  {
   "cell_type": "code",
   "execution_count": 10,
   "metadata": {},
   "outputs": [
    {
     "name": "stdout",
     "output_type": "stream",
     "text": [
      "[1, 2, 3]\n"
     ]
    }
   ],
   "source": [
    "print(listest)"
   ]
  },
  {
   "cell_type": "code",
   "execution_count": 11,
   "metadata": {
    "collapsed": true
   },
   "outputs": [],
   "source": [
    "listest = pd.unique(new_test['version'])"
   ]
  },
  {
   "cell_type": "code",
   "execution_count": 12,
   "metadata": {},
   "outputs": [
    {
     "name": "stdout",
     "output_type": "stream",
     "text": [
      "test2.623000\n",
      "test2.634000\n",
      "test2.635000\n"
     ]
    }
   ],
   "source": [
    "for x in listest:\n",
    "    print('test%f'%x)"
   ]
  },
  {
   "cell_type": "code",
   "execution_count": 18,
   "metadata": {},
   "outputs": [],
   "source": [
    "sample_data = new_test[new_test.version == listest[1] ]"
   ]
  },
  {
   "cell_type": "code",
   "execution_count": 19,
   "metadata": {},
   "outputs": [
    {
     "data": {
      "text/html": [
       "<div>\n",
       "<style>\n",
       "    .dataframe thead tr:only-child th {\n",
       "        text-align: right;\n",
       "    }\n",
       "\n",
       "    .dataframe thead th {\n",
       "        text-align: left;\n",
       "    }\n",
       "\n",
       "    .dataframe tbody tr th {\n",
       "        vertical-align: top;\n",
       "    }\n",
       "</style>\n",
       "<table border=\"1\" class=\"dataframe\">\n",
       "  <thead>\n",
       "    <tr style=\"text-align: right;\">\n",
       "      <th></th>\n",
       "      <th>date</th>\n",
       "      <th>version</th>\n",
       "      <th>rating</th>\n",
       "      <th>body</th>\n",
       "    </tr>\n",
       "  </thead>\n",
       "  <tbody>\n",
       "    <tr>\n",
       "      <th>5</th>\n",
       "      <td>sep 29 2017</td>\n",
       "      <td>2.634</td>\n",
       "      <td>5</td>\n",
       "      <td>its been more than six months since i wrote m...</td>\n",
       "    </tr>\n",
       "    <tr>\n",
       "      <th>8</th>\n",
       "      <td>oct 05 2017</td>\n",
       "      <td>2.634</td>\n",
       "      <td>2</td>\n",
       "      <td>i have been using this app for years and neve...</td>\n",
       "    </tr>\n",
       "    <tr>\n",
       "      <th>11</th>\n",
       "      <td>oct 02 2017</td>\n",
       "      <td>2.634</td>\n",
       "      <td>5</td>\n",
       "      <td>the banking app for chase is very easy to nav...</td>\n",
       "    </tr>\n",
       "    <tr>\n",
       "      <th>14</th>\n",
       "      <td>oct 01 2017</td>\n",
       "      <td>2.634</td>\n",
       "      <td>5</td>\n",
       "      <td>bank from anywhere  put your financial life i...</td>\n",
       "    </tr>\n",
       "    <tr>\n",
       "      <th>15</th>\n",
       "      <td>sep 30 2017</td>\n",
       "      <td>2.634</td>\n",
       "      <td>5</td>\n",
       "      <td>i have the update that came out a few months ...</td>\n",
       "    </tr>\n",
       "    <tr>\n",
       "      <th>19</th>\n",
       "      <td>oct 06 2017</td>\n",
       "      <td>2.634</td>\n",
       "      <td>2</td>\n",
       "      <td>i really do like that i can deposit checks us...</td>\n",
       "    </tr>\n",
       "  </tbody>\n",
       "</table>\n",
       "</div>"
      ],
      "text/plain": [
       "           date  version  rating  \\\n",
       "5   sep 29 2017    2.634       5   \n",
       "8   oct 05 2017    2.634       2   \n",
       "11  oct 02 2017    2.634       5   \n",
       "14  oct 01 2017    2.634       5   \n",
       "15  sep 30 2017    2.634       5   \n",
       "19  oct 06 2017    2.634       2   \n",
       "\n",
       "                                                 body  \n",
       "5    its been more than six months since i wrote m...  \n",
       "8    i have been using this app for years and neve...  \n",
       "11   the banking app for chase is very easy to nav...  \n",
       "14   bank from anywhere  put your financial life i...  \n",
       "15   i have the update that came out a few months ...  \n",
       "19   i really do like that i can deposit checks us...  "
      ]
     },
     "execution_count": 19,
     "metadata": {},
     "output_type": "execute_result"
    }
   ],
   "source": [
    "sample_data"
   ]
  },
  {
   "cell_type": "code",
   "execution_count": 20,
   "metadata": {},
   "outputs": [
    {
     "data": {
      "text/plain": [
       "count    6.000000\n",
       "mean     4.000000\n",
       "std      1.549193\n",
       "min      2.000000\n",
       "25%      2.750000\n",
       "50%      5.000000\n",
       "75%      5.000000\n",
       "max      5.000000\n",
       "Name: rating, dtype: float64"
      ]
     },
     "execution_count": 20,
     "metadata": {},
     "output_type": "execute_result"
    }
   ],
   "source": [
    "sample_data['rating'].describe()"
   ]
  },
  {
   "cell_type": "markdown",
   "metadata": {},
   "source": [
    "### count version_sep index\n",
    "### then use the index value to iterate a for loop to seperate the versions"
   ]
  },
  {
   "cell_type": "code",
   "execution_count": 21,
   "metadata": {},
   "outputs": [
    {
     "data": {
      "text/plain": [
       "array([ 2.623,  2.634,  2.635])"
      ]
     },
     "execution_count": 21,
     "metadata": {},
     "output_type": "execute_result"
    }
   ],
   "source": [
    "listest"
   ]
  },
  {
   "cell_type": "code",
   "execution_count": 13,
   "metadata": {
    "collapsed": true
   },
   "outputs": [],
   "source": [
    "for i in range(len(listest)):\n",
    "    y = new_test[new_test.version == listest[i] ]\n",
    "    #y.to_csv('version name %f.csv'%listest[i], index = False)\n",
    "    #print('count number %d.csv'%(i+1),'testversion %f'%listest[i], y)"
   ]
  },
  {
   "cell_type": "code",
   "execution_count": 14,
   "metadata": {},
   "outputs": [
    {
     "name": "stdout",
     "output_type": "stream",
     "text": [
      "0            date  version  rating  \\\n",
      "0   aug 05 2017    2.623       5   \n",
      "1   aug 15 2017    2.623       1   \n",
      "2   aug 16 2017    2.623       1   \n",
      "3   aug 28 2017    2.623       3   \n",
      "4   aug 11 2017    2.623       5   \n",
      "5   aug 01 2017    2.623       5   \n",
      "6   aug 02 2017    2.623       5   \n",
      "7   sep 02 2017    2.623       4   \n",
      "8   aug 17 2017    2.623       1   \n",
      "9   aug 02 2017    2.623       5   \n",
      "10  aug 17 2017    2.623       1   \n",
      "11  aug 19 2017    2.623       4   \n",
      "12  aug 16 2017    2.623       5   \n",
      "\n",
      "                                                 body  \n",
      "0    i use this app every day its pretty simply la...  \n",
      "1    your password expires but it doesnt tell you ...  \n",
      "2    when you check your balance the addition is a...  \n",
      "3    this app is great when it actually works righ...  \n",
      "4    ive been a member for + years when chase made...  \n",
      "5    i love this app i use this app daily to monit...  \n",
      "6    i moved  years ago and the nearest chase bank...  \n",
      "7    the current version of the app allows you to ...  \n",
      "8    update the app now works again  but mobile de...  \n",
      "9    this app is great its very easy to manage  pr...  \n",
      "10   where to beginill probably be cut off there a...  \n",
      "11   transferring between accounts  if you have mu...  \n",
      "12   update loving the fingerprint sign on feature...  \n",
      "1           date  version  rating  \\\n",
      "0  sep 29 2017    2.634       5   \n",
      "1  oct 05 2017    2.634       2   \n",
      "2  oct 02 2017    2.634       5   \n",
      "3  oct 01 2017    2.634       5   \n",
      "4  sep 30 2017    2.634       5   \n",
      "5  oct 06 2017    2.634       2   \n",
      "\n",
      "                                                body  \n",
      "0   its been more than six months since i wrote m...  \n",
      "1   i have been using this app for years and neve...  \n",
      "2   the banking app for chase is very easy to nav...  \n",
      "3   bank from anywhere  put your financial life i...  \n",
      "4   i have the update that came out a few months ...  \n",
      "5   i really do like that i can deposit checks us...  \n",
      "2           date  version  rating  \\\n",
      "0  nov 10 2017    2.635       1   \n",
      "\n",
      "                                                body  \n",
      "0   the prompts to enter data arent fluid and int...  \n"
     ]
    }
   ],
   "source": [
    "for i in range(len(listest)):\n",
    "    versionname = pd.read_csv('version name %f.csv'%listest[i])\n",
    "    print(i,versionname)"
   ]
  },
  {
   "cell_type": "code",
   "execution_count": 79,
   "metadata": {},
   "outputs": [
    {
     "data": {
      "text/plain": [
       "date        object\n",
       "version    float64\n",
       "rating       int64\n",
       "body        object\n",
       "dtype: object"
      ]
     },
     "execution_count": 79,
     "metadata": {},
     "output_type": "execute_result"
    }
   ],
   "source": [
    "versionname.dtypes"
   ]
  },
  {
   "cell_type": "code",
   "execution_count": 15,
   "metadata": {},
   "outputs": [
    {
     "name": "stdout",
     "output_type": "stream",
     "text": [
      "['version name 2.623000.csv', 'version name 2.634000.csv', 'version name 2.635000.csv']\n"
     ]
    }
   ],
   "source": [
    "print(glob.glob('version name *.csv'))"
   ]
  },
  {
   "cell_type": "code",
   "execution_count": 23,
   "metadata": {},
   "outputs": [
    {
     "name": "stdout",
     "output_type": "stream",
     "text": [
      "count    13.000000\n",
      "mean      3.461538\n",
      "std       1.808101\n",
      "min       1.000000\n",
      "25%       1.000000\n",
      "50%       4.000000\n",
      "75%       5.000000\n",
      "max       5.000000\n",
      "Name: rating, dtype: float64\n",
      "count    6.000000\n",
      "mean     4.000000\n",
      "std      1.549193\n",
      "min      2.000000\n",
      "25%      2.750000\n",
      "50%      5.000000\n",
      "75%      5.000000\n",
      "max      5.000000\n",
      "Name: rating, dtype: float64\n",
      "count    1.0\n",
      "mean     1.0\n",
      "std      NaN\n",
      "min      1.0\n",
      "25%      1.0\n",
      "50%      1.0\n",
      "75%      1.0\n",
      "max      1.0\n",
      "Name: rating, dtype: float64\n"
     ]
    }
   ],
   "source": [
    "for i in range(len(listest)):\n",
    "    vnum = pd.read_csv('version name %f.csv' %listest[i])\n",
    "    des = vnum['rating'].describe()\n",
    "    print(des)"
   ]
  },
  {
   "cell_type": "code",
   "execution_count": 18,
   "metadata": {
    "collapsed": true
   },
   "outputs": [],
   "source": [
    "test_data = new_test[new_test.version == 2.634 ]"
   ]
  },
  {
   "cell_type": "code",
   "execution_count": 19,
   "metadata": {},
   "outputs": [
    {
     "data": {
      "text/html": [
       "<div>\n",
       "<style>\n",
       "    .dataframe thead tr:only-child th {\n",
       "        text-align: right;\n",
       "    }\n",
       "\n",
       "    .dataframe thead th {\n",
       "        text-align: left;\n",
       "    }\n",
       "\n",
       "    .dataframe tbody tr th {\n",
       "        vertical-align: top;\n",
       "    }\n",
       "</style>\n",
       "<table border=\"1\" class=\"dataframe\">\n",
       "  <thead>\n",
       "    <tr style=\"text-align: right;\">\n",
       "      <th></th>\n",
       "      <th>date</th>\n",
       "      <th>version</th>\n",
       "      <th>rating</th>\n",
       "      <th>body</th>\n",
       "    </tr>\n",
       "  </thead>\n",
       "  <tbody>\n",
       "    <tr>\n",
       "      <th>5</th>\n",
       "      <td>sep 29 2017</td>\n",
       "      <td>2.634</td>\n",
       "      <td>5</td>\n",
       "      <td>its been more than six months since i wrote m...</td>\n",
       "    </tr>\n",
       "    <tr>\n",
       "      <th>8</th>\n",
       "      <td>oct 05 2017</td>\n",
       "      <td>2.634</td>\n",
       "      <td>2</td>\n",
       "      <td>i have been using this app for years and neve...</td>\n",
       "    </tr>\n",
       "    <tr>\n",
       "      <th>11</th>\n",
       "      <td>oct 02 2017</td>\n",
       "      <td>2.634</td>\n",
       "      <td>5</td>\n",
       "      <td>the banking app for chase is very easy to nav...</td>\n",
       "    </tr>\n",
       "    <tr>\n",
       "      <th>14</th>\n",
       "      <td>oct 01 2017</td>\n",
       "      <td>2.634</td>\n",
       "      <td>5</td>\n",
       "      <td>bank from anywhere  put your financial life i...</td>\n",
       "    </tr>\n",
       "    <tr>\n",
       "      <th>15</th>\n",
       "      <td>sep 30 2017</td>\n",
       "      <td>2.634</td>\n",
       "      <td>5</td>\n",
       "      <td>i have the update that came out a few months ...</td>\n",
       "    </tr>\n",
       "    <tr>\n",
       "      <th>19</th>\n",
       "      <td>oct 06 2017</td>\n",
       "      <td>2.634</td>\n",
       "      <td>2</td>\n",
       "      <td>i really do like that i can deposit checks us...</td>\n",
       "    </tr>\n",
       "  </tbody>\n",
       "</table>\n",
       "</div>"
      ],
      "text/plain": [
       "           date  version  rating  \\\n",
       "5   sep 29 2017    2.634       5   \n",
       "8   oct 05 2017    2.634       2   \n",
       "11  oct 02 2017    2.634       5   \n",
       "14  oct 01 2017    2.634       5   \n",
       "15  sep 30 2017    2.634       5   \n",
       "19  oct 06 2017    2.634       2   \n",
       "\n",
       "                                                 body  \n",
       "5    its been more than six months since i wrote m...  \n",
       "8    i have been using this app for years and neve...  \n",
       "11   the banking app for chase is very easy to nav...  \n",
       "14   bank from anywhere  put your financial life i...  \n",
       "15   i have the update that came out a few months ...  \n",
       "19   i really do like that i can deposit checks us...  "
      ]
     },
     "execution_count": 19,
     "metadata": {},
     "output_type": "execute_result"
    }
   ],
   "source": [
    "test_data"
   ]
  },
  {
   "cell_type": "code",
   "execution_count": 20,
   "metadata": {
    "collapsed": true
   },
   "outputs": [],
   "source": [
    "body_extraction = new_test.body"
   ]
  },
  {
   "cell_type": "code",
   "execution_count": 21,
   "metadata": {},
   "outputs": [
    {
     "data": {
      "text/plain": [
       "0      i use this app every day its pretty simply la...\n",
       "1      your password expires but it doesnt tell you ...\n",
       "2      when you check your balance the addition is a...\n",
       "3      this app is great when it actually works righ...\n",
       "4      ive been a member for + years when chase made...\n",
       "5      its been more than six months since i wrote m...\n",
       "6      i love this app i use this app daily to monit...\n",
       "7      i moved  years ago and the nearest chase bank...\n",
       "8      i have been using this app for years and neve...\n",
       "9      the current version of the app allows you to ...\n",
       "10     update the app now works again  but mobile de...\n",
       "11     the banking app for chase is very easy to nav...\n",
       "12     the prompts to enter data arent fluid and int...\n",
       "13     this app is great its very easy to manage  pr...\n",
       "14     bank from anywhere  put your financial life i...\n",
       "15     i have the update that came out a few months ...\n",
       "16     where to beginill probably be cut off there a...\n",
       "17     transferring between accounts  if you have mu...\n",
       "18     update loving the fingerprint sign on feature...\n",
       "19     i really do like that i can deposit checks us...\n",
       "Name: body, dtype: object"
      ]
     },
     "execution_count": 21,
     "metadata": {},
     "output_type": "execute_result"
    }
   ],
   "source": [
    "body_extraction"
   ]
  },
  {
   "cell_type": "code",
   "execution_count": 23,
   "metadata": {},
   "outputs": [
    {
     "name": "stdout",
     "output_type": "stream",
     "text": [
      "*** Introductory Examples for the NLTK Book ***\n",
      "Loading text1, ..., text9 and sent1, ..., sent9\n",
      "Type the name of the text or sentence to view it.\n",
      "Type: 'texts()' or 'sents()' to list the materials.\n",
      "text1: Moby Dick by Herman Melville 1851\n",
      "text2: Sense and Sensibility by Jane Austen 1811\n",
      "text3: The Book of Genesis\n",
      "text4: Inaugural Address Corpus\n",
      "text5: Chat Corpus\n",
      "text6: Monty Python and the Holy Grail\n",
      "text7: Wall Street Journal\n",
      "text8: Personals Corpus\n",
      "text9: The Man Who Was Thursday by G . K . Chesterton 1908\n",
      "Wall time: 23.1 s\n"
     ]
    }
   ],
   "source": [
    "%%time\n",
    "\n",
    "from nltk.book import *"
   ]
  },
  {
   "cell_type": "code",
   "execution_count": 24,
   "metadata": {},
   "outputs": [
    {
     "data": {
      "text/plain": [
       "<Text: Moby Dick by Herman Melville 1851>"
      ]
     },
     "execution_count": 24,
     "metadata": {},
     "output_type": "execute_result"
    }
   ],
   "source": [
    "text1"
   ]
  },
  {
   "cell_type": "code",
   "execution_count": 26,
   "metadata": {},
   "outputs": [
    {
     "name": "stdout",
     "output_type": "stream",
     "text": [
      "Displaying 25 of 14431 matches:\n",
      "nsumptive Usher to a Grammar School ) The pale Usher -- threadbare in coat , he\n",
      "hief , mockingly embellished with all the gay flags of all the known nations of\n",
      "llished with all the gay flags of all the known nations of the world . He loved\n",
      "gay flags of all the known nations of the world . He loved to dust his old gram\n",
      "gue leaving out , through ignorance , the letter H , which almost alone maketh \n",
      " letter H , which almost alone maketh the signification of the word , you deliv\n",
      "ost alone maketh the signification of the word , you deliver that which is not \n",
      "ALE . ... It is more immediately from the Dut . and Ger . WALLEN ; A . S . WALW\n",
      "ub - Sub appears to have gone through the long Vaticans and street - stalls of \n",
      " long Vaticans and street - stalls of the earth , picking up whatever random al\n",
      "t not , in every case at least , take the higgledy - piggledy whale statements \n",
      " cetology . Far from it . As touching the ancient authors generally , as well a\n",
      "ncient authors generally , as well as the poets here appearing , these extracts\n",
      " it up , Sub - Subs ! For by how much the more pains ye take to please the worl\n",
      "much the more pains ye take to please the world , by so much the more shall ye \n",
      "take to please the world , by so much the more shall ye for ever go thankless !\n",
      "t I could clear out Hampton Court and the Tuileries for ye ! But gulp down your\n",
      "gulp down your tears and hie aloft to the royal - mast with your hearts ; for y\n",
      "who have gone before are clearing out the seven - storied heavens , and making \n",
      " to shine after him ; One would think the deep to be hoary .\" -- JOB . \" Now th\n",
      "he deep to be hoary .\" -- JOB . \" Now the Lord had prepared a great fish to swa\n",
      "low up Jonah .\" -- JONAH . \" There go the ships ; there is that Leviathan whom \n",
      "herein .\" -- PSALMS . \" In that day , the Lord with his sore , and great , and \n",
      "strong sword , shall punish Leviathan the piercing serpent , even Leviathan tha\n",
      "t crooked serpent ; and he shall slay the dragon that is in the sea .\" -- ISAIA\n"
     ]
    }
   ],
   "source": [
    "text1.concordance(\"the\")"
   ]
  },
  {
   "cell_type": "code",
   "execution_count": 21,
   "metadata": {},
   "outputs": [
    {
     "data": {
      "text/plain": [
       "array([ ' i use this app every day its pretty simply laid out  intuitive there are some things i wish i could do within it  that i guess i could do on the desktop i never use a desktop  like nickname accounts but for the most part  i never find it frustrating and it works nimbly it combines my multiple personal accounts and business accounts in one app  but separates them in different tabs so i get a discrete snapshot of my personal financial health and business financial health it allows me to mobile deposit checks to any of these accounts its a huge timesaver  especially since the chase location  in walking distance of my home  is closing ah  such is the oasis future of the walkin bank  lastly  i really appreciate the ease with accessing credit card information  particularly a rewards screen its very simple  and i can even book a ticket quickly  and another window one more cool thing about this app  when i launch it  it shows one of several set images of the city where i live and not just a bland austin skyline  but shots of nest local areas pretty neat customization and way to make the customer feel that chase is connected to them personally i would really miss this feature if it went away more photos  please ',\n",
       "       ' your password expires but it doesnt tell you it just says reenter your password and then turn on touch id again so  ok fine  im ok with good security  so i enter my password nope  wont accept it ok fine  ill reset in the app it tells you youre password your trying to set to is invalid and reminds you of the requirements i was following those requirements to the letter  so much so that i had a password that looked generated still  the app refuses annoyed go to laptop browser and reset from there  with the exact same supposedly invalid password and it accepts it just fine i just wanted to pay my bill and get to work  but now im angry fix this terrible flow ive worked in dev in banking and i know exactly this same kind of scenario your design is solid this sloppy communication with your user throws all that hard work out the window so disappointed all the app has to do is say go to your desktop to reset the password not ideal but better than the angry tweets and anger youve inspired in me today and stop turning off touch id or give me some warning or oh  hey  just be up front and tell me the truth when requiring a password reset youre not looking out for me  youre looking out for yourself  chase if you were looking out for me youd just be honest plain and simple and thats what poor ux can do for youundermine your credibility as an institution ',\n",
       "       ' when you check your balance the addition is all wrong if you remember in first grade you were taught at left to right in chronological order it is very important that you do that  when i check my balance itll possibly go over and tell me i have more than i have available but im more worried that it is actually stealing money from me or when is telling me i have more i use that money but in the end i get charged with an overdraft fee fix it chase you either have a scam worm or you are the scam either way you have one month or im going to another bank example withdraw  deposit  with draw five dollars deposit   that should be in chronological order but the system will do this deposit  deposit  withdraw   now noticed between first two there is already a difference of value because they dont use the timestamp thus possibly with a little bit more trickery they could literally screw out of money and you wouldnt even really know because when you do the math the same math but they have up in atwater were going to be in the same boat now take a month and then  delete a few transactions and no one is the wiser except for those that nitpick their account ',\n",
       "       ' this app is great when it actually works right i dont usually right reviews unless im really upset about the app one thing that drives me insane is the touch id on this app one day it will be there and active  the next day its gone like the last  days for me actually when i open the app its like i have an older version being used touch id is gone and when i go in the app it looks old there isnt a place in the setting that even shows touch id settings then a week goes by and my regular app is back and touch id has returned   i also end up having a lot of issues with mobile deposit either the picture i take is too talk or too bright or the app crashes and it wont accept the deposit this is a pain because i get a lot of little checks here and there and its easier to just deposit them with my phone than drive to the bank   this app would be great if it werent for these two things honestly the touch id problem is the biggest pain its a pain in the rear entering my password because its not just some random word im begging that this issue was fixed ',\n",
       "       ' ive been a member for + years when chase made this app i was so happy its very user friendly  easy to navigate  also you can perform basically every transactions through the app  without having to go into a branch lots of faqs  with detailed answers  customer support is excellent plus if you send a question comment concern or anything else  their response time is fast  if your a chase member and havent downloaded this app yet  please do it immediately save your time  gas money  as well as frustration due to having to drive to a branch  plus waiting for a member service representative to assist you with your needs i highly recommend this app to every single chase customer even if you havent become a chase customer yet  open accounts  download this app you dont have anything to loose  except unhappiness with another financial institution that doesnt treat their members like chase does they make you feel important  like extended family  ',\n",
       "       ' its been more than six months since i wrote my first review of the chase bank mobile app since then there have been many improvements to the mobile app i still stand by my original review below  and if i could give this app  stars i would there are a few differences between what i can do with the mobile app and the chase website when i use my laptop computer  but thats to be expected other than that chase has done wonders with this app i use it almost every day   the chase mobile app is way better than my former banking affiliations online site because chase deducts the funds from my account when it funds a bill pay transaction  the available balance is not overstated so  the only way to generate an nsf fee is to pay someone by paper check  and then forget to keep track of the payment until it hits the bank i must have saved  or more in the past  months alone chase is my best friend forever  ',\n",
       "       ' i love this app i use this app daily to monitor my checking account activity it allows me to do my banking without driving  miles to the nearest chase branch  saving me a lot of time    i was also able to catch a fraudulent charge that had been made to my account   just a day after the purchase had been made  by checking my balance then seeing the fraudulent purchase listed on the app chase bank customer service reps were very helpful and fixed the  issue immediately      the chase app makes  my banking convenient  easy and efficient the continuous updating and innovation keeps the chase app performing at a level which is top notch it absolutely rocks     chase customer service is very professional  considerate and knowledgeable also they will do whatever it takes to solve any banking issues andor questions that you may encounter chase bank is a class act period bravo ',\n",
       "       ' i moved  years ago and the nearest chase bank is over  miles away i thought i was going to have to switch banks this app has been a life saver i can do everything from my phone i use it all the time and have never had a problem i monitor spending  have an alert for account status and  of course  deposit checks all the time  side note in the past  years  the only problem ive had was getting cash i was buying a truck  needed to make a major withdrawal i used another banks atm i know chase refunds their fee but chase did much better than that the atm was out of cash so  it withdrew from my account and made the noise of dispensing cash but nothing came out i checked my account  with the app  to see if it really did take it out of my account it did i stay in view of the camera and call chase they verify everything and put my money back in no time thanks chase ',\n",
       "       ' i have been using this app for years and never had an issue  whatever update they put in place recently makes the image recognition worthless  i have just spent  minutes trying to take a clear photo of the front of the check  each photo is very blurry and i have to retake  images of the checks used to be fine when i used the app  i finally got a clear image of the front after  minutes of frustration and when i tried to take a photo of the back  i got the same blurry mess  then the app crashed on me  logged me out  and i have to start over  i am very upset right now as i am vacationing in a state that does not have a chase bank available i would like to deposit my money and cant  my other banking mobile app from another bank has none of these issues  come on chase  you have so much money but cant make a decent app  october now and this app is still worthless  i can clearly see the front and back of my checks and yet it keeps telling me the images are not clear enough  this app just hangs as well  utter fail ',\n",
       "       ' the current version of the app allows you to create single  one time payments but you cannot create a payment to occur every month unless you do that on a computer it cannot be done within the app having the ability to create new reoccurring payments would be very helpful   when looking at upcoming payments  chase credit card payments and nonchase credit card payments dont show in one complete list  so you cant see your whole budget currently  chase payments are shown in a different section  so you cannot see all of your upcoming payments in one screen with the current version  if you have more than one chase credit card  you cant even see all of those upcoming payments on one list you must click each account individually  one at a time  to see the upcoming payment  this is an inconvenience and it makes no sense for any of them to be separated ',\n",
       "       ' update the app now works again  but mobile deposits is still a broken mess regularly denys deposit because picture is not clear enough when everything in the pic is clearly legible used to be a great app but now gets all kinds of updates without fixing basic functionality  update the app now crashes  of the time when trying to deposit a check they had previously gotten the check deposit working reasonably well after the initial snafu   original review if you are trying to deposit a check  forget it this app loves to take you all the way through the process and then say that there is a problem no details what  just try again  never mind that you now have an endorsed check in your hands  heres a thought  get your program working properly or put a human at the other end to take  seconds to review the image  also  the alerts are a total mess give me one click view of all my alerts and the account that they go to  not button click hide and seek for each account trained monkeys could have done a better implementation ',\n",
       "       ' the banking app for chase is very easy to navigate all options are located in one convenient drop down menu and each sectionoption is clearly labeled and are descriptive enough to easily find what you are looking for  all done using a very small amount of wording short  sweet and to the point in addition to being easy to navigate  this application contains all of the information regarding your accounts and their contents at least for checking and savings they do from balances to statements and transaction history  everything you need to locate is right at your finger tips i do however wish this app included the link the online version has which allows you to view the banks routing number and your account number as well as fico credit score information like almost all other credit cardbanking apps do ',\n",
       "       ' the prompts to enter data arent fluid and intuitive  the create new password process is a great exampleyou get the first clean ie hard to see line to enter your password and directly below that are the password requirements  fine  thanks for the info  but it separates the requirement to reenter the password and if you just click done in your phones keystroke screen  the highlighted prompt to reset the password is the next thing your eyes naturally see not the next line to reenter your new password then to make things even worse  you get an error message saying your password doesnt meet the requirements wrong its just that you havent reentered the password youre trying so hard to create  another example of poor ui design is when the app asks for you ssn and cardacct details to start the password reset again  its not clear where to enter the numbers  when im frantically trying to remember my password and then have to settle on resetting it  the last thing i want to deal with is vague and misleading prompts from the app im trying to use ',\n",
       "       ' this app is great its very easy to manage  pretty handy amp user friendly the only problems im having with this app recently is that it does not show immediately all my latest transactions it also does not show my paycheck deposit right away with a credit union bank  the paycheck ach shows the day it was processed which is on a thursday so even though our payday are on fridays  its already in any credit union acct on thursdays while with chase  even on a friday  it still shows pending almost the whole day why does it take that long and lastly is when checking my accts on weekend for which most of the time chase do their updates amp i needed to see what my transactions  im not able to makes it very difficult to make some financial decisions when accounts are not accessible  otherwise  its been pretty good to me ',\n",
       "       ' bank from anywhere  put your financial life in order  pay bills  manage payees  transfer funds to college students  deposit directly from your smart phone  this app simplifies your life and sets your schedule free our whole family is linked during harvey we were able to transfer funds during the storm four years of easypeasy fund transfers at texas aampm for room and board paid bills from the beach at port aransas our entire family gives this app thumbs up best of all is being able to set our own account alerts on our phones if my personalized transaction credits  debits  or account balances are exceeded my phone lights up  vibrates  and i get a message with exact details on whats happening this is a great app made better by the truly great people who work at chase love it  love it  love it ',\n",
       "       ' i have the update that came out a few months ago  and i must say that it works without a hitch i also use it for everything but i also use my computer as there are certain things that cannot be done on the app thats simply for security reasons  it is true i live by this app and im using the iphone   i do deposit checks and use the quick pay rather often the one part i do not like is that chase has made it with quick pay that the money goes right into the account ideally this is not a bad thing  but if you make a mistake and send the money to someone unintended then there is not a cancel or for the recipients to cancel the money it just goes straight into their account thats not cool with me other than that the app rocks and works without a hitch ',\n",
       "       ' where to beginill probably be cut off there are so many problems with this ui  i used to be a qa tester  so im probably a bit more harsh than most  but this is a bank i have a bit higher expectations the interface is one of the least intuitive i have ever used when it errors out  it doesnt give you the slightest hint what youve done wrong it doesnt autoadvance so you can tell theres actually a second field you missed filling out when attempting to reset your password   one of the biggest gripes is the fact that they disable the fingerprint login feature every time theres either an iphone update  a fraud alert they block your account about once a month with their pathetic excuses that no respectable machine learning algorithm should ever classify as fraud  or whatever else they determine to be a qualification then they disable your alert notifications too wells fargo is looking more and more appealing  because these chase systems are about the worst ',\n",
       "       ' transferring between accounts  if you have multiple transfers  you have to start from the menu for each transfer after the transfer  it says done and thats it  it would be great if you could have it like the flow for deposits after one deposit  it says deposit another then go back into the deposit flow again   like the touch id and the account balance preview my only complaint is when i get an alert  and go into the view alerts screen  it always takes me to the first account in the list  even if theres no alert on that account its most often on the rd or th account in the list  so i have to go to the list of accounts and then guess which account the alert is on would be nice if when you touch view alerts  it took you right to the account with the alert ',\n",
       "       ' update loving the fingerprint sign on feature sometimes the notifications are glitchy otherwise  see below for my original rating this app is fine i have never had another bank besides chase so i cant compare but i can see all my accounts and my credit cards on the same page i think its pretty user friendly for the most part checking balances  transferring and other everyday functions are simple i love the check deposit option i dont have to make a trip to the bank to deposit my checks one of the reviewers mentioned a ton of extras on the left menu which is true  i dont use half that stuff but it doesnt bother me either if you have chase  get the app why not ',\n",
       "       ' i really do like that i can deposit checks using my iphone i also like that i can be notified and view recent purchases in realtime however  there is one thing that annoys the heck out of me  every so often  and for no apparent reason  i cannot use my touch id to open your app i have to manually input my password and then go in and turn the touch id back on i have noticed that i am not the only person who has had that same problem  so  chase  when the heck are you going to fix that   i read a good number of reviews here that contain quite a few great suggestions that would improve the chase app but  apparently chase has gotten so big they quit listening to their customers you know who im talking about  chasethe very people who helped make you so big   hey chase it would seem to me that you have enough money to hire the very best top tech minds to make your app more user friendly '], dtype=object)"
      ]
     },
     "execution_count": 21,
     "metadata": {},
     "output_type": "execute_result"
    }
   ],
   "source": [
    "pd.unique(new_test['body'])"
   ]
  },
  {
   "cell_type": "code",
   "execution_count": null,
   "metadata": {
    "collapsed": true
   },
   "outputs": [],
   "source": []
  },
  {
   "cell_type": "code",
   "execution_count": null,
   "metadata": {
    "collapsed": true
   },
   "outputs": [],
   "source": []
  }
 ],
 "metadata": {
  "kernelspec": {
   "display_name": "Python 3",
   "language": "python",
   "name": "python3"
  },
  "language_info": {
   "codemirror_mode": {
    "name": "ipython",
    "version": 3
   },
   "file_extension": ".py",
   "mimetype": "text/x-python",
   "name": "python",
   "nbconvert_exporter": "python",
   "pygments_lexer": "ipython3",
   "version": "3.6.3"
  }
 },
 "nbformat": 4,
 "nbformat_minor": 2
}
