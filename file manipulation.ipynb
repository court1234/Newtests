{
 "cells": [
  {
   "cell_type": "code",
   "execution_count": 1,
   "metadata": {
    "collapsed": true
   },
   "outputs": [],
   "source": [
    "import pandas as pd\n",
    "from collections import Counter\n",
    "import string\n",
    "import matplotlib as plt\n",
    "import numpy as np"
   ]
  },
  {
   "cell_type": "code",
   "execution_count": 23,
   "metadata": {
    "collapsed": true
   },
   "outputs": [],
   "source": [
    "test_file = pd.read_csv(\"new_test2.csv\")\n",
    "body_file = pd.unique(test_file['body'])"
   ]
  },
  {
   "cell_type": "markdown",
   "metadata": {},
   "source": [
    "### could combine lines together to simplify"
   ]
  },
  {
   "cell_type": "code",
   "execution_count": 3,
   "metadata": {
    "collapsed": true
   },
   "outputs": [],
   "source": [
    "def count_letters(word, valid_letters=string.ascii_letters):  \n",
    "    while True:\n",
    "        try:\n",
    "            count = Counter(word) # this counts all the letters, including invalid ones\n",
    "            return sum(count[letter] for letter in valid_letters) # add up valid letters...         \n",
    "            break\n",
    "        except:\n",
    "            return 0 #return count   "
   ]
  },
  {
   "cell_type": "code",
   "execution_count": 24,
   "metadata": {
    "collapsed": true
   },
   "outputs": [],
   "source": [
    "not_help = []\n",
    "helpful = []"
   ]
  },
  {
   "cell_type": "code",
   "execution_count": 25,
   "metadata": {},
   "outputs": [
    {
     "name": "stdout",
     "output_type": "stream",
     "text": [
      "0 not helpful\n",
      "1 1088\n",
      "2 929\n",
      "3 834\n",
      "4 768\n",
      "5 not helpful\n",
      "6 708\n",
      "7 679\n",
      "8 797\n",
      "9 690\n",
      "10 824\n",
      "11 667\n",
      "12 not helpful\n",
      "13 661\n",
      "14 647\n",
      "15 596\n",
      "16 783\n",
      "17 601\n",
      "18 537\n",
      "19 702\n",
      "15.0 % are blank reviews\n"
     ]
    }
   ],
   "source": [
    "x = 0\n",
    "s = 0\n",
    "for i in range(len(body_file)):\n",
    "    chart = count_letters(body_file[i])\n",
    "    if(chart < 10): #The number repersents the amount of charters we count as useful\n",
    "        not_help.append(body_file[i])\n",
    "        x += 1 \n",
    "        print(i,'not helpful') \n",
    "    else:\n",
    "        helpful.append(body_file[i])\n",
    "        s += 1\n",
    "        print(i,chart)\n",
    "        \n",
    "rate = ((x/len(body_file))*100)\n",
    "print(\"{} % are blank reviews\".format(rate))"
   ]
  },
  {
   "cell_type": "code",
   "execution_count": 26,
   "metadata": {},
   "outputs": [
    {
     "data": {
      "text/plain": [
       "['Thanks', ' ', 'This sucks']"
      ]
     },
     "execution_count": 26,
     "metadata": {},
     "output_type": "execute_result"
    }
   ],
   "source": [
    "not_help"
   ]
  },
  {
   "cell_type": "code",
   "execution_count": 27,
   "metadata": {},
   "outputs": [],
   "source": [
    "sep_test = test_file[test_file.body == not_help[1]]"
   ]
  },
  {
   "cell_type": "code",
   "execution_count": 28,
   "metadata": {},
   "outputs": [
    {
     "data": {
      "text/html": [
       "<div>\n",
       "<style>\n",
       "    .dataframe thead tr:only-child th {\n",
       "        text-align: right;\n",
       "    }\n",
       "\n",
       "    .dataframe thead th {\n",
       "        text-align: left;\n",
       "    }\n",
       "\n",
       "    .dataframe tbody tr th {\n",
       "        vertical-align: top;\n",
       "    }\n",
       "</style>\n",
       "<table border=\"1\" class=\"dataframe\">\n",
       "  <thead>\n",
       "    <tr style=\"text-align: right;\">\n",
       "      <th></th>\n",
       "      <th>date</th>\n",
       "      <th>version</th>\n",
       "      <th>rating</th>\n",
       "      <th>body</th>\n",
       "    </tr>\n",
       "  </thead>\n",
       "  <tbody>\n",
       "    <tr>\n",
       "      <th>5</th>\n",
       "      <td>sep 29 2017</td>\n",
       "      <td>2.634</td>\n",
       "      <td>5</td>\n",
       "      <td></td>\n",
       "    </tr>\n",
       "  </tbody>\n",
       "</table>\n",
       "</div>"
      ],
      "text/plain": [
       "          date  version  rating body\n",
       "5  sep 29 2017    2.634       5     "
      ]
     },
     "execution_count": 28,
     "metadata": {},
     "output_type": "execute_result"
    }
   ],
   "source": [
    "sep_test"
   ]
  },
  {
   "cell_type": "code",
   "execution_count": null,
   "metadata": {
    "collapsed": true
   },
   "outputs": [],
   "source": []
  }
 ],
 "metadata": {
  "kernelspec": {
   "display_name": "Python 3",
   "language": "python",
   "name": "python3"
  },
  "language_info": {
   "codemirror_mode": {
    "name": "ipython",
    "version": 3
   },
   "file_extension": ".py",
   "mimetype": "text/x-python",
   "name": "python",
   "nbconvert_exporter": "python",
   "pygments_lexer": "ipython3",
   "version": "3.6.3"
  }
 },
 "nbformat": 4,
 "nbformat_minor": 2
}
