{
 "cells": [
  {
   "cell_type": "code",
   "execution_count": 2,
   "metadata": {
    "collapsed": true
   },
   "outputs": [],
   "source": [
    "import pandas as pd"
   ]
  },
  {
   "cell_type": "code",
   "execution_count": 3,
   "metadata": {
    "collapsed": true
   },
   "outputs": [],
   "source": [
    "import glob"
   ]
  },
  {
   "cell_type": "code",
   "execution_count": 1,
   "metadata": {
    "collapsed": true
   },
   "outputs": [],
   "source": [
    "import nltk"
   ]
  },
  {
   "cell_type": "code",
   "execution_count": 3,
   "metadata": {
    "collapsed": true
   },
   "outputs": [],
   "source": [
    "new_test = pd.read_csv('new_test.csv')"
   ]
  },
  {
   "cell_type": "code",
   "execution_count": 4,
   "metadata": {},
   "outputs": [
    {
     "data": {
      "text/html": [
       "<div>\n",
       "<style>\n",
       "    .dataframe thead tr:only-child th {\n",
       "        text-align: right;\n",
       "    }\n",
       "\n",
       "    .dataframe thead th {\n",
       "        text-align: left;\n",
       "    }\n",
       "\n",
       "    .dataframe tbody tr th {\n",
       "        vertical-align: top;\n",
       "    }\n",
       "</style>\n",
       "<table border=\"1\" class=\"dataframe\">\n",
       "  <thead>\n",
       "    <tr style=\"text-align: right;\">\n",
       "      <th></th>\n",
       "      <th>date</th>\n",
       "      <th>version</th>\n",
       "      <th>rating</th>\n",
       "      <th>body</th>\n",
       "    </tr>\n",
       "  </thead>\n",
       "  <tbody>\n",
       "    <tr>\n",
       "      <th>0</th>\n",
       "      <td>aug 05 2017</td>\n",
       "      <td>2.623</td>\n",
       "      <td>5</td>\n",
       "      <td>i use this app every day its pretty simply la...</td>\n",
       "    </tr>\n",
       "    <tr>\n",
       "      <th>1</th>\n",
       "      <td>aug 15 2017</td>\n",
       "      <td>2.623</td>\n",
       "      <td>1</td>\n",
       "      <td>your password expires but it doesnt tell you ...</td>\n",
       "    </tr>\n",
       "    <tr>\n",
       "      <th>2</th>\n",
       "      <td>aug 16 2017</td>\n",
       "      <td>2.623</td>\n",
       "      <td>1</td>\n",
       "      <td>when you check your balance the addition is a...</td>\n",
       "    </tr>\n",
       "    <tr>\n",
       "      <th>3</th>\n",
       "      <td>aug 28 2017</td>\n",
       "      <td>2.623</td>\n",
       "      <td>3</td>\n",
       "      <td>this app is great when it actually works righ...</td>\n",
       "    </tr>\n",
       "    <tr>\n",
       "      <th>4</th>\n",
       "      <td>aug 11 2017</td>\n",
       "      <td>2.623</td>\n",
       "      <td>5</td>\n",
       "      <td>ive been a member for + years when chase made...</td>\n",
       "    </tr>\n",
       "    <tr>\n",
       "      <th>5</th>\n",
       "      <td>sep 29 2017</td>\n",
       "      <td>2.634</td>\n",
       "      <td>5</td>\n",
       "      <td>its been more than six months since i wrote m...</td>\n",
       "    </tr>\n",
       "    <tr>\n",
       "      <th>6</th>\n",
       "      <td>aug 01 2017</td>\n",
       "      <td>2.623</td>\n",
       "      <td>5</td>\n",
       "      <td>i love this app i use this app daily to monit...</td>\n",
       "    </tr>\n",
       "    <tr>\n",
       "      <th>7</th>\n",
       "      <td>aug 02 2017</td>\n",
       "      <td>2.623</td>\n",
       "      <td>5</td>\n",
       "      <td>i moved  years ago and the nearest chase bank...</td>\n",
       "    </tr>\n",
       "    <tr>\n",
       "      <th>8</th>\n",
       "      <td>oct 05 2017</td>\n",
       "      <td>2.634</td>\n",
       "      <td>2</td>\n",
       "      <td>i have been using this app for years and neve...</td>\n",
       "    </tr>\n",
       "    <tr>\n",
       "      <th>9</th>\n",
       "      <td>sep 02 2017</td>\n",
       "      <td>2.623</td>\n",
       "      <td>4</td>\n",
       "      <td>the current version of the app allows you to ...</td>\n",
       "    </tr>\n",
       "    <tr>\n",
       "      <th>10</th>\n",
       "      <td>aug 17 2017</td>\n",
       "      <td>2.623</td>\n",
       "      <td>1</td>\n",
       "      <td>update the app now works again  but mobile de...</td>\n",
       "    </tr>\n",
       "    <tr>\n",
       "      <th>11</th>\n",
       "      <td>oct 02 2017</td>\n",
       "      <td>2.634</td>\n",
       "      <td>5</td>\n",
       "      <td>the banking app for chase is very easy to nav...</td>\n",
       "    </tr>\n",
       "    <tr>\n",
       "      <th>12</th>\n",
       "      <td>nov 10 2017</td>\n",
       "      <td>2.635</td>\n",
       "      <td>1</td>\n",
       "      <td>the prompts to enter data arent fluid and int...</td>\n",
       "    </tr>\n",
       "    <tr>\n",
       "      <th>13</th>\n",
       "      <td>aug 02 2017</td>\n",
       "      <td>2.623</td>\n",
       "      <td>5</td>\n",
       "      <td>this app is great its very easy to manage  pr...</td>\n",
       "    </tr>\n",
       "    <tr>\n",
       "      <th>14</th>\n",
       "      <td>oct 01 2017</td>\n",
       "      <td>2.634</td>\n",
       "      <td>5</td>\n",
       "      <td>bank from anywhere  put your financial life i...</td>\n",
       "    </tr>\n",
       "    <tr>\n",
       "      <th>15</th>\n",
       "      <td>sep 30 2017</td>\n",
       "      <td>2.634</td>\n",
       "      <td>5</td>\n",
       "      <td>i have the update that came out a few months ...</td>\n",
       "    </tr>\n",
       "    <tr>\n",
       "      <th>16</th>\n",
       "      <td>aug 17 2017</td>\n",
       "      <td>2.623</td>\n",
       "      <td>1</td>\n",
       "      <td>where to beginill probably be cut off there a...</td>\n",
       "    </tr>\n",
       "    <tr>\n",
       "      <th>17</th>\n",
       "      <td>aug 19 2017</td>\n",
       "      <td>2.623</td>\n",
       "      <td>4</td>\n",
       "      <td>transferring between accounts  if you have mu...</td>\n",
       "    </tr>\n",
       "    <tr>\n",
       "      <th>18</th>\n",
       "      <td>aug 16 2017</td>\n",
       "      <td>2.623</td>\n",
       "      <td>5</td>\n",
       "      <td>update loving the fingerprint sign on feature...</td>\n",
       "    </tr>\n",
       "    <tr>\n",
       "      <th>19</th>\n",
       "      <td>oct 06 2017</td>\n",
       "      <td>2.634</td>\n",
       "      <td>2</td>\n",
       "      <td>i really do like that i can deposit checks us...</td>\n",
       "    </tr>\n",
       "  </tbody>\n",
       "</table>\n",
       "</div>"
      ],
      "text/plain": [
       "           date  version  rating  \\\n",
       "0   aug 05 2017    2.623       5   \n",
       "1   aug 15 2017    2.623       1   \n",
       "2   aug 16 2017    2.623       1   \n",
       "3   aug 28 2017    2.623       3   \n",
       "4   aug 11 2017    2.623       5   \n",
       "5   sep 29 2017    2.634       5   \n",
       "6   aug 01 2017    2.623       5   \n",
       "7   aug 02 2017    2.623       5   \n",
       "8   oct 05 2017    2.634       2   \n",
       "9   sep 02 2017    2.623       4   \n",
       "10  aug 17 2017    2.623       1   \n",
       "11  oct 02 2017    2.634       5   \n",
       "12  nov 10 2017    2.635       1   \n",
       "13  aug 02 2017    2.623       5   \n",
       "14  oct 01 2017    2.634       5   \n",
       "15  sep 30 2017    2.634       5   \n",
       "16  aug 17 2017    2.623       1   \n",
       "17  aug 19 2017    2.623       4   \n",
       "18  aug 16 2017    2.623       5   \n",
       "19  oct 06 2017    2.634       2   \n",
       "\n",
       "                                                 body  \n",
       "0    i use this app every day its pretty simply la...  \n",
       "1    your password expires but it doesnt tell you ...  \n",
       "2    when you check your balance the addition is a...  \n",
       "3    this app is great when it actually works righ...  \n",
       "4    ive been a member for + years when chase made...  \n",
       "5    its been more than six months since i wrote m...  \n",
       "6    i love this app i use this app daily to monit...  \n",
       "7    i moved  years ago and the nearest chase bank...  \n",
       "8    i have been using this app for years and neve...  \n",
       "9    the current version of the app allows you to ...  \n",
       "10   update the app now works again  but mobile de...  \n",
       "11   the banking app for chase is very easy to nav...  \n",
       "12   the prompts to enter data arent fluid and int...  \n",
       "13   this app is great its very easy to manage  pr...  \n",
       "14   bank from anywhere  put your financial life i...  \n",
       "15   i have the update that came out a few months ...  \n",
       "16   where to beginill probably be cut off there a...  \n",
       "17   transferring between accounts  if you have mu...  \n",
       "18   update loving the fingerprint sign on feature...  \n",
       "19   i really do like that i can deposit checks us...  "
      ]
     },
     "execution_count": 4,
     "metadata": {},
     "output_type": "execute_result"
    }
   ],
   "source": [
    "new_test"
   ]
  },
  {
   "cell_type": "code",
   "execution_count": 5,
   "metadata": {},
   "outputs": [
    {
     "data": {
      "text/plain": [
       "date        object\n",
       "version    float64\n",
       "rating       int64\n",
       "body        object\n",
       "dtype: object"
      ]
     },
     "execution_count": 5,
     "metadata": {},
     "output_type": "execute_result"
    }
   ],
   "source": [
    "new_test.dtypes"
   ]
  },
  {
   "cell_type": "code",
   "execution_count": 6,
   "metadata": {},
   "outputs": [
    {
     "data": {
      "text/plain": [
       "array([ 2.623,  2.634,  2.635])"
      ]
     },
     "execution_count": 6,
     "metadata": {},
     "output_type": "execute_result"
    }
   ],
   "source": [
    "pd.unique(new_test['version'])"
   ]
  },
  {
   "cell_type": "code",
   "execution_count": 8,
   "metadata": {
    "collapsed": true
   },
   "outputs": [],
   "source": [
    "listest = [1,2,3]"
   ]
  },
  {
   "cell_type": "code",
   "execution_count": 7,
   "metadata": {},
   "outputs": [
    {
     "ename": "NameError",
     "evalue": "name 'listest' is not defined",
     "output_type": "error",
     "traceback": [
      "\u001b[1;31m---------------------------------------------------------------------------\u001b[0m",
      "\u001b[1;31mNameError\u001b[0m                                 Traceback (most recent call last)",
      "\u001b[1;32m<ipython-input-7-45f5b1b48fa4>\u001b[0m in \u001b[0;36m<module>\u001b[1;34m()\u001b[0m\n\u001b[1;32m----> 1\u001b[1;33m \u001b[0mprint\u001b[0m\u001b[1;33m(\u001b[0m\u001b[0mlistest\u001b[0m\u001b[1;33m)\u001b[0m\u001b[1;33m\u001b[0m\u001b[0m\n\u001b[0m",
      "\u001b[1;31mNameError\u001b[0m: name 'listest' is not defined"
     ]
    }
   ],
   "source": [
    "print(listest)"
   ]
  },
  {
   "cell_type": "code",
   "execution_count": 9,
   "metadata": {
    "collapsed": true
   },
   "outputs": [],
   "source": [
    "listest = pd.unique(new_test['version'])"
   ]
  },
  {
   "cell_type": "code",
   "execution_count": 10,
   "metadata": {},
   "outputs": [
    {
     "name": "stdout",
     "output_type": "stream",
     "text": [
      "test2.623000\n",
      "test2.634000\n",
      "test2.635000\n"
     ]
    }
   ],
   "source": [
    "for x in listest:\n",
    "    print('test%f'%x)"
   ]
  },
  {
   "cell_type": "code",
   "execution_count": 11,
   "metadata": {
    "collapsed": true
   },
   "outputs": [],
   "source": [
    "sample_data = new_test[new_test.version == listest[1] ]"
   ]
  },
  {
   "cell_type": "code",
   "execution_count": 12,
   "metadata": {},
   "outputs": [
    {
     "data": {
      "text/html": [
       "<div>\n",
       "<style>\n",
       "    .dataframe thead tr:only-child th {\n",
       "        text-align: right;\n",
       "    }\n",
       "\n",
       "    .dataframe thead th {\n",
       "        text-align: left;\n",
       "    }\n",
       "\n",
       "    .dataframe tbody tr th {\n",
       "        vertical-align: top;\n",
       "    }\n",
       "</style>\n",
       "<table border=\"1\" class=\"dataframe\">\n",
       "  <thead>\n",
       "    <tr style=\"text-align: right;\">\n",
       "      <th></th>\n",
       "      <th>date</th>\n",
       "      <th>version</th>\n",
       "      <th>rating</th>\n",
       "      <th>body</th>\n",
       "    </tr>\n",
       "  </thead>\n",
       "  <tbody>\n",
       "    <tr>\n",
       "      <th>5</th>\n",
       "      <td>sep 29 2017</td>\n",
       "      <td>2.634</td>\n",
       "      <td>5</td>\n",
       "      <td>its been more than six months since i wrote m...</td>\n",
       "    </tr>\n",
       "    <tr>\n",
       "      <th>8</th>\n",
       "      <td>oct 05 2017</td>\n",
       "      <td>2.634</td>\n",
       "      <td>2</td>\n",
       "      <td>i have been using this app for years and neve...</td>\n",
       "    </tr>\n",
       "    <tr>\n",
       "      <th>11</th>\n",
       "      <td>oct 02 2017</td>\n",
       "      <td>2.634</td>\n",
       "      <td>5</td>\n",
       "      <td>the banking app for chase is very easy to nav...</td>\n",
       "    </tr>\n",
       "    <tr>\n",
       "      <th>14</th>\n",
       "      <td>oct 01 2017</td>\n",
       "      <td>2.634</td>\n",
       "      <td>5</td>\n",
       "      <td>bank from anywhere  put your financial life i...</td>\n",
       "    </tr>\n",
       "    <tr>\n",
       "      <th>15</th>\n",
       "      <td>sep 30 2017</td>\n",
       "      <td>2.634</td>\n",
       "      <td>5</td>\n",
       "      <td>i have the update that came out a few months ...</td>\n",
       "    </tr>\n",
       "    <tr>\n",
       "      <th>19</th>\n",
       "      <td>oct 06 2017</td>\n",
       "      <td>2.634</td>\n",
       "      <td>2</td>\n",
       "      <td>i really do like that i can deposit checks us...</td>\n",
       "    </tr>\n",
       "  </tbody>\n",
       "</table>\n",
       "</div>"
      ],
      "text/plain": [
       "           date  version  rating  \\\n",
       "5   sep 29 2017    2.634       5   \n",
       "8   oct 05 2017    2.634       2   \n",
       "11  oct 02 2017    2.634       5   \n",
       "14  oct 01 2017    2.634       5   \n",
       "15  sep 30 2017    2.634       5   \n",
       "19  oct 06 2017    2.634       2   \n",
       "\n",
       "                                                 body  \n",
       "5    its been more than six months since i wrote m...  \n",
       "8    i have been using this app for years and neve...  \n",
       "11   the banking app for chase is very easy to nav...  \n",
       "14   bank from anywhere  put your financial life i...  \n",
       "15   i have the update that came out a few months ...  \n",
       "19   i really do like that i can deposit checks us...  "
      ]
     },
     "execution_count": 12,
     "metadata": {},
     "output_type": "execute_result"
    }
   ],
   "source": [
    "sample_data"
   ]
  },
  {
   "cell_type": "code",
   "execution_count": 40,
   "metadata": {},
   "outputs": [
    {
     "data": {
      "text/plain": [
       "count    6.000000\n",
       "mean     4.000000\n",
       "std      1.549193\n",
       "min      2.000000\n",
       "25%      2.750000\n",
       "50%      5.000000\n",
       "75%      5.000000\n",
       "max      5.000000\n",
       "Name: rating, dtype: float64"
      ]
     },
     "execution_count": 40,
     "metadata": {},
     "output_type": "execute_result"
    }
   ],
   "source": [
    "sample_data['rating'].describe()"
   ]
  },
  {
   "cell_type": "markdown",
   "metadata": {},
   "source": [
    "### count version_sep index\n",
    "### then use the index value to iterate a for loop to seperate the versions"
   ]
  },
  {
   "cell_type": "code",
   "execution_count": 21,
   "metadata": {},
   "outputs": [
    {
     "data": {
      "text/plain": [
       "array([ 2.623,  2.634,  2.635])"
      ]
     },
     "execution_count": 21,
     "metadata": {},
     "output_type": "execute_result"
    }
   ],
   "source": [
    "listest"
   ]
  },
  {
   "cell_type": "code",
   "execution_count": 13,
   "metadata": {
    "collapsed": true
   },
   "outputs": [],
   "source": [
    "for i in range(len(listest)):\n",
    "    y = new_test[new_test.version == listest[i] ]\n",
    "    #y.to_csv('version name %f.csv'%listest[i], index = False)\n",
    "    #print('count number %d.csv'%(i+1),'testversion %f'%listest[i], y)"
   ]
  },
  {
   "cell_type": "code",
   "execution_count": 14,
   "metadata": {},
   "outputs": [
    {
     "name": "stdout",
     "output_type": "stream",
     "text": [
      "0            date  version  rating  \\\n",
      "0   aug 05 2017    2.623       5   \n",
      "1   aug 15 2017    2.623       1   \n",
      "2   aug 16 2017    2.623       1   \n",
      "3   aug 28 2017    2.623       3   \n",
      "4   aug 11 2017    2.623       5   \n",
      "5   aug 01 2017    2.623       5   \n",
      "6   aug 02 2017    2.623       5   \n",
      "7   sep 02 2017    2.623       4   \n",
      "8   aug 17 2017    2.623       1   \n",
      "9   aug 02 2017    2.623       5   \n",
      "10  aug 17 2017    2.623       1   \n",
      "11  aug 19 2017    2.623       4   \n",
      "12  aug 16 2017    2.623       5   \n",
      "\n",
      "                                                 body  \n",
      "0    i use this app every day its pretty simply la...  \n",
      "1    your password expires but it doesnt tell you ...  \n",
      "2    when you check your balance the addition is a...  \n",
      "3    this app is great when it actually works righ...  \n",
      "4    ive been a member for + years when chase made...  \n",
      "5    i love this app i use this app daily to monit...  \n",
      "6    i moved  years ago and the nearest chase bank...  \n",
      "7    the current version of the app allows you to ...  \n",
      "8    update the app now works again  but mobile de...  \n",
      "9    this app is great its very easy to manage  pr...  \n",
      "10   where to beginill probably be cut off there a...  \n",
      "11   transferring between accounts  if you have mu...  \n",
      "12   update loving the fingerprint sign on feature...  \n",
      "1           date  version  rating  \\\n",
      "0  sep 29 2017    2.634       5   \n",
      "1  oct 05 2017    2.634       2   \n",
      "2  oct 02 2017    2.634       5   \n",
      "3  oct 01 2017    2.634       5   \n",
      "4  sep 30 2017    2.634       5   \n",
      "5  oct 06 2017    2.634       2   \n",
      "\n",
      "                                                body  \n",
      "0   its been more than six months since i wrote m...  \n",
      "1   i have been using this app for years and neve...  \n",
      "2   the banking app for chase is very easy to nav...  \n",
      "3   bank from anywhere  put your financial life i...  \n",
      "4   i have the update that came out a few months ...  \n",
      "5   i really do like that i can deposit checks us...  \n",
      "2           date  version  rating  \\\n",
      "0  nov 10 2017    2.635       1   \n",
      "\n",
      "                                                body  \n",
      "0   the prompts to enter data arent fluid and int...  \n"
     ]
    }
   ],
   "source": [
    "for i in range(len(listest)):\n",
    "    versionname = pd.read_csv('version name %f.csv'%listest[i])\n",
    "    print(i,versionname)"
   ]
  },
  {
   "cell_type": "code",
   "execution_count": 79,
   "metadata": {},
   "outputs": [
    {
     "data": {
      "text/plain": [
       "date        object\n",
       "version    float64\n",
       "rating       int64\n",
       "body        object\n",
       "dtype: object"
      ]
     },
     "execution_count": 79,
     "metadata": {},
     "output_type": "execute_result"
    }
   ],
   "source": [
    "versionname.dtypes"
   ]
  },
  {
   "cell_type": "code",
   "execution_count": 15,
   "metadata": {},
   "outputs": [
    {
     "name": "stdout",
     "output_type": "stream",
     "text": [
      "['version name 2.623000.csv', 'version name 2.634000.csv', 'version name 2.635000.csv']\n"
     ]
    }
   ],
   "source": [
    "print(glob.glob('version name *.csv'))"
   ]
  },
  {
   "cell_type": "code",
   "execution_count": 23,
   "metadata": {},
   "outputs": [
    {
     "name": "stdout",
     "output_type": "stream",
     "text": [
      "count    13.000000\n",
      "mean      3.461538\n",
      "std       1.808101\n",
      "min       1.000000\n",
      "25%       1.000000\n",
      "50%       4.000000\n",
      "75%       5.000000\n",
      "max       5.000000\n",
      "Name: rating, dtype: float64\n",
      "count    6.000000\n",
      "mean     4.000000\n",
      "std      1.549193\n",
      "min      2.000000\n",
      "25%      2.750000\n",
      "50%      5.000000\n",
      "75%      5.000000\n",
      "max      5.000000\n",
      "Name: rating, dtype: float64\n",
      "count    1.0\n",
      "mean     1.0\n",
      "std      NaN\n",
      "min      1.0\n",
      "25%      1.0\n",
      "50%      1.0\n",
      "75%      1.0\n",
      "max      1.0\n",
      "Name: rating, dtype: float64\n"
     ]
    }
   ],
   "source": [
    "for i in range(len(listest)):\n",
    "    vnum = pd.read_csv('version name %f.csv' %listest[i])\n",
    "    des = vnum['rating'].describe()\n",
    "    print(des)"
   ]
  },
  {
   "cell_type": "code",
   "execution_count": null,
   "metadata": {
    "collapsed": true
   },
   "outputs": [],
   "source": []
  }
 ],
 "metadata": {
  "kernelspec": {
   "display_name": "Python 3",
   "language": "python",
   "name": "python3"
  },
  "language_info": {
   "codemirror_mode": {
    "name": "ipython",
    "version": 3
   },
   "file_extension": ".py",
   "mimetype": "text/x-python",
   "name": "python",
   "nbconvert_exporter": "python",
   "pygments_lexer": "ipython3",
   "version": "3.6.3"
  }
 },
 "nbformat": 4,
 "nbformat_minor": 2
}
